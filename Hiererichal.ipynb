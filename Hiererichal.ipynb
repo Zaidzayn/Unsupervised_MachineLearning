{
 "cells": [
  {
   "cell_type": "code",
   "execution_count": null,
   "metadata": {},
   "outputs": [],
   "source": [
    "import numpy as np\n",
    "import matplotlib.pyplot as plt\n",
    "from sklearn.cluster import AgglomerativeClustering\n",
    "from sklearn.datasets import make_blobs\n",
    "from scipy.cluster.hierarchy import dendrogram, linkage\n",
    "from scipy.spatial.distance import pdist\n",
    "\n",
    "# Generate sample data\n",
    "X, y = make_blobs(n_samples=50, centers=3, cluster_std=1, \n",
    "                  random_state=42)\n",
    "\n",
    "# Method 1: Using scikit-learn\n",
    "clustering = AgglomerativeClustering(\n",
    "    n_clusters=3,           # Number of clusters\n",
    "    linkage='ward',         # Linkage criterion\n",
    "    metric='euclidean'      # Distance metric\n",
    ")\n",
    "cluster_labels = clustering.fit_predict(X)\n",
    "\n",
    "# Method 2: Using scipy for dendrogram\n",
    "linkage_matrix = linkage(X, method='ward')\n",
    "\n",
    "# Plot results\n",
    "fig, (ax1, ax2) = plt.subplots(1, 2, figsize=(15, 6))\n",
    "\n",
    "# Plot clusters\n",
    "ax1.scatter(X[:, 0], X[:, 1], c=cluster_labels, cmap='viridis')\n",
    "ax1.set_title('Hierarchical Clustering Results')\n",
    "ax1.set_xlabel('Feature 1')\n",
    "ax1.set_ylabel('Feature 2')\n",
    "\n",
    "# Plot dendrogram\n",
    "dendrogram(linkage_matrix, ax=ax2)\n",
    "ax2.set_title('Dendrogram')\n",
    "ax2.set_xlabel('Sample Index')\n",
    "ax2.set_ylabel('Distance')\n",
    "\n",
    "plt.tight_layout()\n",
    "plt.show()"
   ]
  }
 ],
 "metadata": {
  "kernelspec": {
   "display_name": "base",
   "language": "python",
   "name": "python3"
  },
  "language_info": {
   "name": "python",
   "version": "3.12.7"
  }
 },
 "nbformat": 4,
 "nbformat_minor": 2
}
